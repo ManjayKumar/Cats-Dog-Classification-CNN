{
 "cells": [
  {
   "cell_type": "code",
   "execution_count": 1,
   "metadata": {},
   "outputs": [],
   "source": [
    "import numpy as np\n",
    "import os\n",
    "import cv2\n",
    "import matplotlib.pyplot as plt"
   ]
  },
  {
   "cell_type": "code",
   "execution_count": 2,
   "metadata": {},
   "outputs": [],
   "source": [
    "DIRECTORY = r'data/train'"
   ]
  },
  {
   "cell_type": "code",
   "execution_count": 3,
   "metadata": {},
   "outputs": [],
   "source": [
    "CATEGORIES = ['cats', 'dogs']"
   ]
  },
  {
   "cell_type": "code",
   "execution_count": 4,
   "metadata": {},
   "outputs": [
    {
     "name": "stdout",
     "output_type": "stream",
     "text": [
      "data/train/cats/10.jpg\n",
      "data/train/cats/1.jpg\n",
      "data/train/cats/18.jpg\n",
      "data/train/cats/9.jpg\n",
      "data/train/cats/14.jpg\n",
      "data/train/cats/5.jpg\n",
      "data/train/cats/12.jpg\n",
      "data/train/cats/3.jpg\n",
      "data/train/cats/16.jpg\n",
      "data/train/cats/7.jpg\n",
      "data/train/cats/2.jpg\n",
      "data/train/cats/11.jpg\n",
      "data/train/cats/20.jpg\n",
      "data/train/cats/19.jpg\n",
      "data/train/cats/6.jpg\n",
      "data/train/cats/15.jpg\n",
      "data/train/cats/4.jpg\n",
      "data/train/cats/13.jpg\n",
      "data/train/cats/8.jpg\n",
      "data/train/cats/17.jpg\n",
      "data/train/dogs/10.jpg\n",
      "data/train/dogs/1.jpg\n",
      "data/train/dogs/18.jpg\n",
      "data/train/dogs/9.jpg\n",
      "data/train/dogs/14.jpg\n",
      "data/train/dogs/5.jpg\n",
      "data/train/dogs/12.jpg\n",
      "data/train/dogs/3.jpg\n",
      "data/train/dogs/16.jpg\n",
      "data/train/dogs/7.jpg\n",
      "data/train/dogs/2.jpg\n",
      "data/train/dogs/11.jpg\n",
      "data/train/dogs/20.jpg\n",
      "data/train/dogs/19.jpg\n",
      "data/train/dogs/6.jpg\n",
      "data/train/dogs/15.jpg\n",
      "data/train/dogs/4.jpg\n",
      "data/train/dogs/13.jpg\n",
      "data/train/dogs/8.jpg\n",
      "data/train/dogs/17.jpg\n"
     ]
    }
   ],
   "source": [
    "IMG_SIZE =128\n",
    "data1 = []\n",
    "for category in CATEGORIES:\n",
    "    path = os.path.join(DIRECTORY, category)\n",
    "    for img in os.listdir(path):\n",
    "        img_path =  os.path.join(path,img)\n",
    "        print(img_path)\n",
    "        label = CATEGORIES.index(category)\n",
    "        img_arr = cv2.imread(img_path)\n",
    "        img_arr=cv2.resize(img_arr,(IMG_SIZE,IMG_SIZE))\n",
    "        data1.append([img_arr, label])\n",
    "        \n",
    "        "
   ]
  },
  {
   "cell_type": "code",
   "execution_count": 37,
   "metadata": {},
   "outputs": [
    {
     "data": {
      "text/plain": [
       "[[array([[[156, 170, 185],\n",
       "          [ 96, 119, 146],\n",
       "          [ 98, 128, 161],\n",
       "          ...,\n",
       "          [ 67,  90, 119],\n",
       "          [ 85, 108, 135],\n",
       "          [ 69,  92, 119]],\n",
       "  \n",
       "         [[138, 164, 192],\n",
       "          [ 63,  99, 144],\n",
       "          [ 65, 109, 161],\n",
       "          ...,\n",
       "          [ 33,  60,  97],\n",
       "          [ 42,  69, 104],\n",
       "          [ 43,  70, 104]],\n",
       "  \n",
       "         [[141, 157, 175],\n",
       "          [ 43,  75, 111],\n",
       "          [ 19,  59, 108],\n",
       "          ...,\n",
       "          [ 53,  83, 113],\n",
       "          [ 51,  80, 111],\n",
       "          [ 32,  61,  90]],\n",
       "  \n",
       "         ...,\n",
       "  \n",
       "         [[239, 251, 253],\n",
       "          [227, 243, 244],\n",
       "          [224, 245, 245],\n",
       "          ...,\n",
       "          [213, 234, 233],\n",
       "          [214, 236, 235],\n",
       "          [211, 233, 232]],\n",
       "  \n",
       "         [[239, 252, 254],\n",
       "          [223, 241, 243],\n",
       "          [218, 239, 240],\n",
       "          ...,\n",
       "          [214, 236, 234],\n",
       "          [215, 237, 235],\n",
       "          [212, 234, 232]],\n",
       "  \n",
       "         [[241, 254, 253],\n",
       "          [231, 248, 247],\n",
       "          [228, 249, 247],\n",
       "          ...,\n",
       "          [226, 242, 241],\n",
       "          [228, 245, 244],\n",
       "          [227, 243, 242]]], dtype=uint8),\n",
       "  1],\n",
       " [array([[[225, 229, 217],\n",
       "          [234, 236, 224],\n",
       "          [233, 236, 221],\n",
       "          ...,\n",
       "          [145, 151, 160],\n",
       "          [149, 160, 168],\n",
       "          [143, 150, 159]],\n",
       "  \n",
       "         [[216, 221, 212],\n",
       "          [199, 206, 198],\n",
       "          [193, 203, 197],\n",
       "          ...,\n",
       "          [116, 123, 132],\n",
       "          [138, 149, 157],\n",
       "          [145, 146, 144]],\n",
       "  \n",
       "         [[189, 199, 193],\n",
       "          [179, 192, 191],\n",
       "          [202, 218, 223],\n",
       "          ...,\n",
       "          [157, 164, 173],\n",
       "          [133, 144, 152],\n",
       "          [141, 145, 146]],\n",
       "  \n",
       "         ...,\n",
       "  \n",
       "         [[171, 172, 160],\n",
       "          [168, 170, 158],\n",
       "          [164, 166, 154],\n",
       "          ...,\n",
       "          [170, 169, 157],\n",
       "          [170, 170, 158],\n",
       "          [169, 169, 157]],\n",
       "  \n",
       "         [[171, 171, 159],\n",
       "          [168, 168, 156],\n",
       "          [170, 170, 158],\n",
       "          ...,\n",
       "          [172, 170, 159],\n",
       "          [174, 172, 162],\n",
       "          [171, 169, 158]],\n",
       "  \n",
       "         [[171, 171, 159],\n",
       "          [171, 171, 159],\n",
       "          [172, 172, 160],\n",
       "          ...,\n",
       "          [173, 171, 160],\n",
       "          [169, 167, 156],\n",
       "          [170, 168, 157]]], dtype=uint8),\n",
       "  1],\n",
       " [array([[[ 95,  69,  63],\n",
       "          [ 97,  72,  69],\n",
       "          [ 93,  69,  69],\n",
       "          ...,\n",
       "          [ 69,  68,  88],\n",
       "          [ 73,  72,  92],\n",
       "          [ 75,  70,  91]],\n",
       "  \n",
       "         [[ 78,  73,  72],\n",
       "          [ 82,  77,  78],\n",
       "          [ 99,  95,  97],\n",
       "          ...,\n",
       "          [ 80,  79,  99],\n",
       "          [ 76,  75,  95],\n",
       "          [ 85,  91, 110]],\n",
       "  \n",
       "         [[167, 167, 174],\n",
       "          [154, 157, 164],\n",
       "          [152, 154, 164],\n",
       "          ...,\n",
       "          [ 78,  77,  97],\n",
       "          [ 81,  79,  99],\n",
       "          [ 78,  80,  99]],\n",
       "  \n",
       "         ...,\n",
       "  \n",
       "         [[ 28,  22,  26],\n",
       "          [ 38,  33,  35],\n",
       "          [ 44,  39,  38],\n",
       "          ...,\n",
       "          [122, 110, 128],\n",
       "          [120, 109, 127],\n",
       "          [118, 105, 124]],\n",
       "  \n",
       "         [[ 33,  26,  27],\n",
       "          [ 24,  23,  23],\n",
       "          [ 37,  36,  36],\n",
       "          ...,\n",
       "          [113, 103, 120],\n",
       "          [113, 103, 120],\n",
       "          [122, 106, 123]],\n",
       "  \n",
       "         [[ 32,  25,  26],\n",
       "          [ 30,  28,  28],\n",
       "          [ 43,  43,  43],\n",
       "          ...,\n",
       "          [114, 104, 121],\n",
       "          [110, 100, 117],\n",
       "          [121, 105, 122]]], dtype=uint8),\n",
       "  1],\n",
       " [array([[[ 90,  92, 132],\n",
       "          [ 65,  68, 112],\n",
       "          [ 61,  66, 111],\n",
       "          ...,\n",
       "          [124, 128, 139],\n",
       "          [109, 117, 129],\n",
       "          [ 97, 106, 119]],\n",
       "  \n",
       "         [[ 84,  88, 133],\n",
       "          [ 59,  63, 113],\n",
       "          [ 52,  56, 107],\n",
       "          ...,\n",
       "          [118, 122, 133],\n",
       "          [103, 110, 123],\n",
       "          [ 90,  98, 112]],\n",
       "  \n",
       "         [[ 88,  95, 138],\n",
       "          [ 58,  64, 112],\n",
       "          [ 51,  60, 109],\n",
       "          ...,\n",
       "          [118, 122, 133],\n",
       "          [104, 112, 124],\n",
       "          [ 91, 100, 113]],\n",
       "  \n",
       "         ...,\n",
       "  \n",
       "         [[122, 130, 160],\n",
       "          [102, 111, 144],\n",
       "          [ 98, 108, 142],\n",
       "          ...,\n",
       "          [ 93, 104, 150],\n",
       "          [ 91, 104, 150],\n",
       "          [ 95, 108, 154]],\n",
       "  \n",
       "         [[138, 145, 178],\n",
       "          [115, 122, 157],\n",
       "          [116, 124, 162],\n",
       "          ...,\n",
       "          [ 90, 101, 148],\n",
       "          [ 91, 103, 151],\n",
       "          [ 92, 104, 152]],\n",
       "  \n",
       "         [[151, 156, 189],\n",
       "          [126, 132, 170],\n",
       "          [116, 123, 165],\n",
       "          ...,\n",
       "          [ 91, 102, 149],\n",
       "          [ 90, 102, 150],\n",
       "          [ 91, 102, 151]]], dtype=uint8),\n",
       "  0],\n",
       " [array([[[131, 149, 156],\n",
       "          [134, 153, 158],\n",
       "          [133, 152, 155],\n",
       "          ...,\n",
       "          [123, 145, 151],\n",
       "          [131, 155, 161],\n",
       "          [125, 144, 145]],\n",
       "  \n",
       "         [[132, 149, 157],\n",
       "          [131, 150, 155],\n",
       "          [131, 150, 153],\n",
       "          ...,\n",
       "          [120, 142, 149],\n",
       "          [124, 148, 154],\n",
       "          [123, 147, 147]],\n",
       "  \n",
       "         [[132, 151, 157],\n",
       "          [134, 153, 158],\n",
       "          [130, 149, 152],\n",
       "          ...,\n",
       "          [123, 145, 151],\n",
       "          [120, 144, 150],\n",
       "          [121, 147, 147]],\n",
       "  \n",
       "         ...,\n",
       "  \n",
       "         [[174, 148, 132],\n",
       "          [173, 147, 131],\n",
       "          [178, 152, 136],\n",
       "          ...,\n",
       "          [ 96, 116, 115],\n",
       "          [120, 141, 139],\n",
       "          [120, 140, 141]],\n",
       "  \n",
       "         [[177, 151, 136],\n",
       "          [178, 151, 137],\n",
       "          [177, 151, 135],\n",
       "          ...,\n",
       "          [119, 140, 142],\n",
       "          [119, 140, 142],\n",
       "          [123, 141, 148]],\n",
       "  \n",
       "         [[175, 148, 134],\n",
       "          [177, 151, 136],\n",
       "          [179, 153, 137],\n",
       "          ...,\n",
       "          [115, 135, 140],\n",
       "          [119, 139, 144],\n",
       "          [122, 139, 148]]], dtype=uint8),\n",
       "  1]]"
      ]
     },
     "execution_count": 37,
     "metadata": {},
     "output_type": "execute_result"
    }
   ],
   "source": [
    "data1[:5]"
   ]
  },
  {
   "cell_type": "code",
   "execution_count": 5,
   "metadata": {},
   "outputs": [],
   "source": [
    "import random\n",
    "\n",
    "random.shuffle(data1)"
   ]
  },
  {
   "cell_type": "code",
   "execution_count": 6,
   "metadata": {},
   "outputs": [],
   "source": [
    "X = []\n",
    "y = []"
   ]
  },
  {
   "cell_type": "code",
   "execution_count": 7,
   "metadata": {},
   "outputs": [],
   "source": [
    "for features, label in data1:\n",
    "    X.append(features)\n",
    "    y.append(label)"
   ]
  },
  {
   "cell_type": "code",
   "execution_count": 8,
   "metadata": {},
   "outputs": [],
   "source": [
    "X = np.array(X)\n",
    "y = np.array(y)"
   ]
  },
  {
   "cell_type": "code",
   "execution_count": 19,
   "metadata": {},
   "outputs": [
    {
     "data": {
      "text/plain": [
       "(120, 128, 128, 1)"
      ]
     },
     "execution_count": 19,
     "metadata": {},
     "output_type": "execute_result"
    }
   ],
   "source": [
    "X.shape"
   ]
  },
  {
   "cell_type": "code",
   "execution_count": 20,
   "metadata": {},
   "outputs": [
    {
     "data": {
      "text/plain": [
       "(40,)"
      ]
     },
     "execution_count": 20,
     "metadata": {},
     "output_type": "execute_result"
    }
   ],
   "source": [
    "y.shape"
   ]
  },
  {
   "cell_type": "code",
   "execution_count": 9,
   "metadata": {},
   "outputs": [],
   "source": [
    "X = X/255"
   ]
  },
  {
   "cell_type": "code",
   "execution_count": 12,
   "metadata": {},
   "outputs": [],
   "source": [
    "X = X.reshape(-1, 128, 128, 1)"
   ]
  },
  {
   "cell_type": "code",
   "execution_count": 10,
   "metadata": {},
   "outputs": [],
   "source": [
    "from keras.models import Sequential\n",
    "from keras.layers import Conv2D, MaxPooling2D, Dense, Flatten,Dropout,Input"
   ]
  },
  {
   "cell_type": "code",
   "execution_count": 11,
   "metadata": {},
   "outputs": [],
   "source": [
    "model = Sequential()"
   ]
  },
  {
   "cell_type": "code",
   "execution_count": 12,
   "metadata": {},
   "outputs": [],
   "source": [
    "\n",
    "model.add(Conv2D(32, (5,5), activation = 'relu'))\n",
    "model.add(MaxPooling2D((2,2)))\n",
    "model.add(Conv2D(64, (5,5), activation = 'relu'))\n",
    "model.add(MaxPooling2D((2,2)))\n",
    "model.add(Dropout(0.40))\n",
    "model.add(Conv2D(64, (5,5), activation = 'relu'))\n",
    "model.add(MaxPooling2D((2,2)))\n",
    "model.add(Dropout(0.40))\n",
    "model.add(Flatten())\n",
    "model.add(Dense(128, input_shape = X.shape[1:], activation = 'relu'))\n",
    "model.add(Dense(10, activation = 'softmax'))\n"
   ]
  },
  {
   "cell_type": "code",
   "execution_count": 13,
   "metadata": {},
   "outputs": [],
   "source": [
    "model.compile(optimizer='adam',\n",
    "              loss='sparse_categorical_crossentropy',\n",
    "              metrics=['accuracy'])"
   ]
  },
  {
   "cell_type": "code",
   "execution_count": 188,
   "metadata": {},
   "outputs": [
    {
     "data": {
      "text/plain": [
       "(120, 128, 128, 1)"
      ]
     },
     "execution_count": 188,
     "metadata": {},
     "output_type": "execute_result"
    }
   ],
   "source": [
    "X.shape"
   ]
  },
  {
   "cell_type": "code",
   "execution_count": 14,
   "metadata": {},
   "outputs": [
    {
     "name": "stdout",
     "output_type": "stream",
     "text": [
      "Epoch 1/50\n",
      "2/2 [==============================] - 2s 403ms/step - loss: 1.9258 - accuracy: 0.4444 - val_loss: 1.6204 - val_accuracy: 0.5000\n",
      "Epoch 2/50\n",
      "2/2 [==============================] - 1s 204ms/step - loss: 2.3843 - accuracy: 0.5556 - val_loss: 2.3205 - val_accuracy: 0.5000\n",
      "Epoch 3/50\n",
      "2/2 [==============================] - 1s 250ms/step - loss: 3.5180 - accuracy: 0.5000 - val_loss: 1.3853 - val_accuracy: 0.5000\n",
      "Epoch 4/50\n",
      "2/2 [==============================] - 1s 217ms/step - loss: 1.0453 - accuracy: 0.5000 - val_loss: 1.9249 - val_accuracy: 0.5000\n",
      "Epoch 5/50\n",
      "2/2 [==============================] - 1s 243ms/step - loss: 1.4651 - accuracy: 0.5278 - val_loss: 1.2857 - val_accuracy: 0.5000\n",
      "Epoch 6/50\n",
      "2/2 [==============================] - 1s 203ms/step - loss: 0.9252 - accuracy: 0.5000 - val_loss: 0.9204 - val_accuracy: 0.5000\n",
      "Epoch 7/50\n",
      "2/2 [==============================] - 1s 206ms/step - loss: 0.8857 - accuracy: 0.5000 - val_loss: 0.8727 - val_accuracy: 0.5000\n",
      "Epoch 8/50\n",
      "2/2 [==============================] - 1s 197ms/step - loss: 0.7894 - accuracy: 0.5000 - val_loss: 0.8541 - val_accuracy: 0.5000\n",
      "Epoch 9/50\n",
      "2/2 [==============================] - 1s 198ms/step - loss: 1.0963 - accuracy: 0.5000 - val_loss: 0.7746 - val_accuracy: 0.5000\n",
      "Epoch 10/50\n",
      "2/2 [==============================] - 1s 198ms/step - loss: 0.8655 - accuracy: 0.4722 - val_loss: 0.7551 - val_accuracy: 0.5000\n",
      "Epoch 11/50\n",
      "2/2 [==============================] - 1s 206ms/step - loss: 0.7685 - accuracy: 0.5000 - val_loss: 0.8292 - val_accuracy: 0.5000\n",
      "Epoch 12/50\n",
      "2/2 [==============================] - 1s 193ms/step - loss: 0.8431 - accuracy: 0.5000 - val_loss: 0.7837 - val_accuracy: 0.5000\n",
      "Epoch 13/50\n",
      "2/2 [==============================] - 1s 205ms/step - loss: 0.8024 - accuracy: 0.5000 - val_loss: 0.7430 - val_accuracy: 0.5000\n",
      "Epoch 14/50\n",
      "2/2 [==============================] - 1s 187ms/step - loss: 0.6842 - accuracy: 0.5556 - val_loss: 0.7672 - val_accuracy: 0.5000\n",
      "Epoch 15/50\n",
      "2/2 [==============================] - 1s 197ms/step - loss: 0.7334 - accuracy: 0.5278 - val_loss: 0.8020 - val_accuracy: 0.5000\n",
      "Epoch 16/50\n",
      "2/2 [==============================] - 1s 239ms/step - loss: 0.7420 - accuracy: 0.5000 - val_loss: 0.8208 - val_accuracy: 0.5000\n",
      "Epoch 17/50\n",
      "2/2 [==============================] - 1s 201ms/step - loss: 0.7476 - accuracy: 0.5000 - val_loss: 0.8042 - val_accuracy: 0.5000\n",
      "Epoch 18/50\n",
      "2/2 [==============================] - 1s 201ms/step - loss: 0.7175 - accuracy: 0.5000 - val_loss: 0.7644 - val_accuracy: 0.5000\n",
      "Epoch 19/50\n",
      "2/2 [==============================] - 1s 203ms/step - loss: 0.6910 - accuracy: 0.6667 - val_loss: 0.7351 - val_accuracy: 0.5000\n",
      "Epoch 20/50\n",
      "2/2 [==============================] - 1s 215ms/step - loss: 0.6868 - accuracy: 0.5556 - val_loss: 0.7246 - val_accuracy: 0.5000\n",
      "Epoch 21/50\n",
      "2/2 [==============================] - 1s 197ms/step - loss: 0.6959 - accuracy: 0.5278 - val_loss: 0.7205 - val_accuracy: 0.5000\n",
      "Epoch 22/50\n",
      "2/2 [==============================] - 1s 213ms/step - loss: 0.6864 - accuracy: 0.5556 - val_loss: 0.7108 - val_accuracy: 0.2500\n",
      "Epoch 23/50\n",
      "2/2 [==============================] - 1s 210ms/step - loss: 0.6402 - accuracy: 0.7222 - val_loss: 0.7755 - val_accuracy: 0.5000\n",
      "Epoch 24/50\n",
      "2/2 [==============================] - 1s 190ms/step - loss: 0.7363 - accuracy: 0.5000 - val_loss: 0.7572 - val_accuracy: 0.5000\n",
      "Epoch 25/50\n",
      "2/2 [==============================] - 1s 206ms/step - loss: 0.7289 - accuracy: 0.5278 - val_loss: 0.7110 - val_accuracy: 0.5000\n",
      "Epoch 26/50\n",
      "2/2 [==============================] - 1s 208ms/step - loss: 0.6666 - accuracy: 0.6111 - val_loss: 0.7076 - val_accuracy: 0.5000\n",
      "Epoch 27/50\n",
      "2/2 [==============================] - 1s 202ms/step - loss: 0.6298 - accuracy: 0.6667 - val_loss: 0.7159 - val_accuracy: 0.5000\n",
      "Epoch 28/50\n",
      "2/2 [==============================] - 1s 196ms/step - loss: 0.6495 - accuracy: 0.5833 - val_loss: 0.7065 - val_accuracy: 0.5000\n",
      "Epoch 29/50\n",
      "2/2 [==============================] - 1s 244ms/step - loss: 0.6474 - accuracy: 0.6111 - val_loss: 0.6924 - val_accuracy: 0.2500\n",
      "Epoch 30/50\n",
      "2/2 [==============================] - 1s 192ms/step - loss: 0.5633 - accuracy: 0.7500 - val_loss: 0.6940 - val_accuracy: 0.5000\n",
      "Epoch 31/50\n",
      "2/2 [==============================] - 1s 205ms/step - loss: 0.5546 - accuracy: 0.7222 - val_loss: 0.7118 - val_accuracy: 0.5000\n",
      "Epoch 32/50\n",
      "2/2 [==============================] - 1s 205ms/step - loss: 0.6180 - accuracy: 0.6111 - val_loss: 0.6182 - val_accuracy: 0.5000\n",
      "Epoch 33/50\n",
      "2/2 [==============================] - 1s 192ms/step - loss: 0.5444 - accuracy: 0.8333 - val_loss: 0.6499 - val_accuracy: 0.7500\n",
      "Epoch 34/50\n",
      "2/2 [==============================] - 1s 206ms/step - loss: 0.6066 - accuracy: 0.5833 - val_loss: 0.6357 - val_accuracy: 0.2500\n",
      "Epoch 35/50\n",
      "2/2 [==============================] - 1s 202ms/step - loss: 0.5747 - accuracy: 0.6944 - val_loss: 0.6131 - val_accuracy: 0.7500\n",
      "Epoch 36/50\n",
      "2/2 [==============================] - 1s 190ms/step - loss: 0.5553 - accuracy: 0.6944 - val_loss: 0.6599 - val_accuracy: 0.7500\n",
      "Epoch 37/50\n",
      "2/2 [==============================] - 1s 210ms/step - loss: 0.5224 - accuracy: 0.7500 - val_loss: 0.6635 - val_accuracy: 0.7500\n",
      "Epoch 38/50\n",
      "2/2 [==============================] - 1s 201ms/step - loss: 0.4588 - accuracy: 0.8611 - val_loss: 0.7362 - val_accuracy: 0.7500\n",
      "Epoch 39/50\n",
      "2/2 [==============================] - 1s 205ms/step - loss: 0.4807 - accuracy: 0.6944 - val_loss: 0.9282 - val_accuracy: 0.5000\n",
      "Epoch 40/50\n",
      "2/2 [==============================] - 1s 196ms/step - loss: 0.5634 - accuracy: 0.6389 - val_loss: 0.6510 - val_accuracy: 0.5000\n",
      "Epoch 41/50\n",
      "2/2 [==============================] - 1s 195ms/step - loss: 0.4392 - accuracy: 0.8333 - val_loss: 0.7481 - val_accuracy: 0.5000\n",
      "Epoch 42/50\n",
      "2/2 [==============================] - 1s 199ms/step - loss: 0.5681 - accuracy: 0.6944 - val_loss: 0.6384 - val_accuracy: 0.5000\n",
      "Epoch 43/50\n",
      "2/2 [==============================] - 1s 203ms/step - loss: 0.3891 - accuracy: 0.8889 - val_loss: 0.6723 - val_accuracy: 0.7500\n",
      "Epoch 44/50\n",
      "2/2 [==============================] - 1s 200ms/step - loss: 0.4403 - accuracy: 0.8056 - val_loss: 0.5632 - val_accuracy: 0.7500\n",
      "Epoch 45/50\n",
      "2/2 [==============================] - 1s 210ms/step - loss: 0.3605 - accuracy: 0.9167 - val_loss: 0.5030 - val_accuracy: 0.7500\n",
      "Epoch 46/50\n",
      "2/2 [==============================] - 1s 189ms/step - loss: 0.4318 - accuracy: 0.8333 - val_loss: 0.4813 - val_accuracy: 0.7500\n",
      "Epoch 47/50\n",
      "2/2 [==============================] - 1s 211ms/step - loss: 0.3188 - accuracy: 0.9167 - val_loss: 0.6097 - val_accuracy: 0.7500\n",
      "Epoch 48/50\n",
      "2/2 [==============================] - 1s 221ms/step - loss: 0.5054 - accuracy: 0.6667 - val_loss: 0.6055 - val_accuracy: 0.7500\n",
      "Epoch 49/50\n",
      "2/2 [==============================] - 1s 192ms/step - loss: 0.4760 - accuracy: 0.7500 - val_loss: 0.6069 - val_accuracy: 0.5000\n",
      "Epoch 50/50\n",
      "2/2 [==============================] - 1s 207ms/step - loss: 0.3962 - accuracy: 0.9167 - val_loss: 0.6568 - val_accuracy: 0.2500\n"
     ]
    },
    {
     "data": {
      "text/plain": [
       "<keras.callbacks.History at 0x7f499815c390>"
      ]
     },
     "execution_count": 14,
     "metadata": {},
     "output_type": "execute_result"
    }
   ],
   "source": [
    "model.fit(X, y,batch_size=32, epochs=50, validation_split=0.1)"
   ]
  },
  {
   "cell_type": "code",
   "execution_count": 34,
   "metadata": {},
   "outputs": [],
   "source": [
    "def image(path):\n",
    "    img = cv2.imread(path)\n",
    "    new_arr = cv2.resize(img, (IMG_SIZE,IMG_SIZE))\n",
    "    new_arr = np.array(new_arr)\n",
    "    new_arr = new_arr.reshape(-1, 128, 128, 1)\n",
    "    return new_arr"
   ]
  },
  {
   "cell_type": "code",
   "execution_count": null,
   "metadata": {},
   "outputs": [],
   "source": [
    "prediction = model.predict([image('data/test/cats/102.jpg')])\n",
    "print(CATEGORIES[prediction.argmax()])"
   ]
  }
 ],
 "metadata": {
  "kernelspec": {
   "display_name": "Python 3",
   "language": "python",
   "name": "python3"
  },
  "language_info": {
   "codemirror_mode": {
    "name": "ipython",
    "version": 3
   },
   "file_extension": ".py",
   "mimetype": "text/x-python",
   "name": "python",
   "nbconvert_exporter": "python",
   "pygments_lexer": "ipython3",
   "version": "3.7.6"
  }
 },
 "nbformat": 4,
 "nbformat_minor": 4
}
